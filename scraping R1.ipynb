{
 "cells": [
  {
   "cell_type": "code",
   "execution_count": 34,
   "id": "resistant-bradford",
   "metadata": {},
   "outputs": [],
   "source": [
    "import pandas as pd\n",
    "from bs4 import BeautifulSoup\n",
    "import re\n",
    "import string\n",
    "import json\n",
    "import requests\n",
    "\n",
    "url_stats = \"https://finance.yahoo.com/quote/{}/key-statistics?p={}\"\n",
    "url_profile = \"https://finance.yahoo.com/quote/{}/profile?p={}\"\n",
    "url_financials = \"https://finance.yahoo.com/quote/{}/financials?p={}\"\n",
    "stock = 'AAPL'\n",
    "url = url_profile.format(stock, stock)\n",
    "\n",
    "page = requests.get(url)\n",
    "soup = BeautifulSoup(page.text, 'lxml')\n",
    "pattern = re.compile(r'\\s--\\sData\\s--\\s')\n",
    "script_data = soup.find('script', text=pattern).contents[0]\n",
    "# print(script_data)\n",
    "start_pos = script_data.find(\"context\") - 2\n",
    "end_pos = -12\n",
    "data = json.loads(script_data[start_pos : end_pos])\n",
    "stock_price = data['context']['dispatcher']['stores']['QuoteSummaryStore']\n",
    "\n"
   ]
  },
  {
   "cell_type": "code",
   "execution_count": 35,
   "id": "promotional-humidity",
   "metadata": {},
   "outputs": [
    {
     "data": {
      "text/plain": [
       "dict_keys(['financialsTemplate', 'price', 'secFilings', 'quoteType', 'calendarEvents', 'summaryDetail', 'symbol', 'assetProfile', 'pageViews'])"
      ]
     },
     "execution_count": 35,
     "metadata": {},
     "output_type": "execute_result"
    }
   ],
   "source": [
    "stock_price.keys()"
   ]
  },
  {
   "cell_type": "code",
   "execution_count": 38,
   "id": "considerable-animation",
   "metadata": {},
   "outputs": [
    {
     "data": {
      "text/plain": [
       "{'filings': [{'date': '2021-02-08',\n",
       "   'epochDate': 1612819923,\n",
       "   'type': '8-K',\n",
       "   'title': 'Other Events, Financial Statements and Exhibits',\n",
       "   'edgarUrl': 'https://yahoo.brand.edgar-online.com/DisplayFiling.aspx?TabIndex=2&dcn=0001193125-21-032394&nav=1&src=Yahoo',\n",
       "   'maxAge': 1},\n",
       "  {'date': '2021-01-28',\n",
       "   'epochDate': 1611831743,\n",
       "   'type': '10-Q',\n",
       "   'title': 'Quarterly Report',\n",
       "   'edgarUrl': 'https://yahoo.brand.edgar-online.com/DisplayFiling.aspx?TabIndex=2&dcn=0000320193-21-000010&nav=1&src=Yahoo',\n",
       "   'maxAge': 1},\n",
       "  {'date': '2021-01-27',\n",
       "   'epochDate': 1611783081,\n",
       "   'type': '8-K',\n",
       "   'title': 'Results of Operations and Financial Condition, Financial Statements and Exhibits',\n",
       "   'edgarUrl': 'https://yahoo.brand.edgar-online.com/DisplayFiling.aspx?TabIndex=2&dcn=0000320193-21-000009&nav=1&src=Yahoo',\n",
       "   'maxAge': 1},\n",
       "  {'date': '2021-01-05',\n",
       "   'epochDate': 1609882443,\n",
       "   'type': '8-K',\n",
       "   'title': 'Change in Directors or Principal Officers',\n",
       "   'edgarUrl': 'https://yahoo.brand.edgar-online.com/DisplayFiling.aspx?TabIndex=2&dcn=0001193125-21-001982&nav=1&src=Yahoo',\n",
       "   'maxAge': 1},\n",
       "  {'date': '2020-10-30',\n",
       "   'epochDate': 1604055976,\n",
       "   'type': '10-K',\n",
       "   'title': 'Annual Report',\n",
       "   'edgarUrl': 'https://yahoo.brand.edgar-online.com/DisplayFiling.aspx?TabIndex=2&dcn=0000320193-20-000096&nav=1&src=Yahoo',\n",
       "   'maxAge': 1},\n",
       "  {'date': '2020-10-29',\n",
       "   'epochDate': 1604007124,\n",
       "   'type': '8-K',\n",
       "   'title': 'Results of Operations and Financial Condition, Financial Statements and Exhibits',\n",
       "   'edgarUrl': 'https://yahoo.brand.edgar-online.com/DisplayFiling.aspx?TabIndex=2&dcn=0000320193-20-000094&nav=1&src=Yahoo',\n",
       "   'maxAge': 1},\n",
       "  {'date': '2020-08-20',\n",
       "   'epochDate': 1597959111,\n",
       "   'type': '8-K',\n",
       "   'title': 'Other Events, Financial Statements and Exhibits',\n",
       "   'edgarUrl': 'https://yahoo.brand.edgar-online.com/DisplayFiling.aspx?TabIndex=2&dcn=0001193125-20-225672&nav=1&src=Yahoo',\n",
       "   'maxAge': 1},\n",
       "  {'date': '2020-08-07',\n",
       "   'epochDate': 1596838860,\n",
       "   'type': '8-K',\n",
       "   'title': 'Amendments to Articles of Inc. or Bylaws; Change in Fiscal Year, Financial Statements and Exhibits',\n",
       "   'edgarUrl': 'https://yahoo.brand.edgar-online.com/DisplayFiling.aspx?TabIndex=2&dcn=0001193125-20-213158&nav=1&src=Yahoo',\n",
       "   'maxAge': 1},\n",
       "  {'date': '2020-07-31',\n",
       "   'epochDate': 1596193466,\n",
       "   'type': '10-Q',\n",
       "   'title': 'Quarterly Report',\n",
       "   'edgarUrl': 'https://yahoo.brand.edgar-online.com/DisplayFiling.aspx?TabIndex=2&dcn=0000320193-20-000062&nav=1&src=Yahoo',\n",
       "   'maxAge': 1},\n",
       "  {'date': '2020-07-30',\n",
       "   'epochDate': 1596153394,\n",
       "   'type': '8-K',\n",
       "   'title': 'Results of Operations and Financial Condition, Financial Statements and Exhibits',\n",
       "   'edgarUrl': 'https://yahoo.brand.edgar-online.com/DisplayFiling.aspx?TabIndex=2&dcn=0000320193-20-000060&nav=1&src=Yahoo',\n",
       "   'maxAge': 1},\n",
       "  {'date': '2020-05-11',\n",
       "   'epochDate': 1589229159,\n",
       "   'type': '8-K',\n",
       "   'title': 'Disclosing Other Events, Financial Statements and Exhibits',\n",
       "   'edgarUrl': 'https://yahoo.brand.edgar-online.com/DisplayFiling.aspx?TabIndex=2&dcn=0001193125-20-139112&nav=1&src=Yahoo',\n",
       "   'maxAge': 1},\n",
       "  {'date': '2020-05-01',\n",
       "   'epochDate': 1588329945,\n",
       "   'type': '10-Q',\n",
       "   'title': 'Quarterly Report',\n",
       "   'edgarUrl': 'https://yahoo.brand.edgar-online.com/DisplayFiling.aspx?TabIndex=2&dcn=0000320193-20-000052&nav=1&src=Yahoo',\n",
       "   'maxAge': 1},\n",
       "  {'date': '2020-04-30',\n",
       "   'epochDate': 1588278795,\n",
       "   'type': '8-K',\n",
       "   'title': 'Disclosing Results of Operations and Financial Condition, Financial Statements and Exhibits',\n",
       "   'edgarUrl': 'https://yahoo.brand.edgar-online.com/DisplayFiling.aspx?TabIndex=2&dcn=0000320193-20-000050&nav=1&src=Yahoo',\n",
       "   'maxAge': 1},\n",
       "  {'date': '2020-02-18',\n",
       "   'epochDate': 1582025728,\n",
       "   'type': '8-K',\n",
       "   'title': 'Disclosing Regulation FD Disclosure, Financial Statements and Exhibits',\n",
       "   'edgarUrl': 'https://yahoo.brand.edgar-online.com/DisplayFiling.aspx?TabIndex=2&dcn=0001193125-20-039203&nav=1&src=Yahoo',\n",
       "   'maxAge': 1},\n",
       "  {'date': '2020-01-29',\n",
       "   'epochDate': 1580296028,\n",
       "   'type': '10-Q',\n",
       "   'title': 'Quarterly Report',\n",
       "   'edgarUrl': 'https://yahoo.brand.edgar-online.com/DisplayFiling.aspx?TabIndex=2&dcn=0000320193-20-000010&nav=1&src=Yahoo',\n",
       "   'maxAge': 1},\n",
       "  {'date': '2020-01-28',\n",
       "   'epochDate': 1580247103,\n",
       "   'type': '8-K',\n",
       "   'title': 'Disclosing Results of Operations and Financial Condition, Financial Statements and Exhibits',\n",
       "   'edgarUrl': 'https://yahoo.brand.edgar-online.com/DisplayFiling.aspx?TabIndex=2&dcn=0000320193-20-000008&nav=1&src=Yahoo',\n",
       "   'maxAge': 1},\n",
       "  {'date': '2019-11-15',\n",
       "   'epochDate': 1573817072,\n",
       "   'type': '8-K',\n",
       "   'title': 'Disclosing Other Events, Financial Statements and Exhibits',\n",
       "   'edgarUrl': 'https://yahoo.brand.edgar-online.com/DisplayFiling.aspx?TabIndex=2&dcn=0001193125-19-292676&nav=1&src=Yahoo',\n",
       "   'maxAge': 1},\n",
       "  {'date': '2019-10-31',\n",
       "   'epochDate': 1572516447,\n",
       "   'type': '10-K',\n",
       "   'title': 'Annual Report',\n",
       "   'edgarUrl': 'https://yahoo.brand.edgar-online.com/DisplayFiling.aspx?TabIndex=2&dcn=0000320193-19-000119&nav=1&src=Yahoo',\n",
       "   'maxAge': 1},\n",
       "  {'date': '2019-10-30',\n",
       "   'epochDate': 1572467523,\n",
       "   'type': '8-K',\n",
       "   'title': 'Disclosing Results of Operations and Financial Condition, Financial Statements and Exhibits',\n",
       "   'edgarUrl': 'https://yahoo.brand.edgar-online.com/DisplayFiling.aspx?TabIndex=2&dcn=0000320193-19-000117&nav=1&src=Yahoo',\n",
       "   'maxAge': 1},\n",
       "  {'date': '2019-09-11',\n",
       "   'epochDate': 1568233320,\n",
       "   'type': '8-K',\n",
       "   'title': 'Disclosing Other Events, Financial Statements and Exhibits',\n",
       "   'edgarUrl': 'https://yahoo.brand.edgar-online.com/DisplayFiling.aspx?TabIndex=2&dcn=0001193125-19-242975&nav=1&src=Yahoo',\n",
       "   'maxAge': 1},\n",
       "  {'date': '2019-07-31',\n",
       "   'epochDate': 1564605221,\n",
       "   'type': '10-Q',\n",
       "   'title': 'Quarterly Report',\n",
       "   'edgarUrl': 'https://yahoo.brand.edgar-online.com/DisplayFiling.aspx?TabIndex=2&dcn=0000320193-19-000076&nav=1&src=Yahoo',\n",
       "   'maxAge': 1},\n",
       "  {'date': '2019-07-30',\n",
       "   'epochDate': 1564518682,\n",
       "   'type': '8-K',\n",
       "   'title': 'Disclosing Results of Operations and Financial Condition, Financial Statements and Exhibits',\n",
       "   'edgarUrl': 'https://yahoo.brand.edgar-online.com/DisplayFiling.aspx?TabIndex=2&dcn=0000320193-19-000073&nav=1&src=Yahoo',\n",
       "   'maxAge': 1}],\n",
       " 'maxAge': 86400}"
      ]
     },
     "execution_count": 38,
     "metadata": {},
     "output_type": "execute_result"
    }
   ],
   "source": [
    "stock_price['secFilings']"
   ]
  },
  {
   "cell_type": "code",
   "execution_count": 48,
   "id": "confidential-weekly",
   "metadata": {},
   "outputs": [
    {
     "ename": "TypeError",
     "evalue": "unhashable type: 'list'",
     "output_type": "error",
     "traceback": [
      "\u001b[0;31m---------------------------------------------------------------------------\u001b[0m",
      "\u001b[0;31mTypeError\u001b[0m                                 Traceback (most recent call last)",
      "\u001b[0;32m<ipython-input-48-a3ee7c8e5754>\u001b[0m in \u001b[0;36m<module>\u001b[0;34m\u001b[0m\n\u001b[1;32m      1\u001b[0m \u001b[0mdata\u001b[0m \u001b[0;34m=\u001b[0m \u001b[0mstock_price\u001b[0m\u001b[0;34m[\u001b[0m\u001b[0;34m'secFilings'\u001b[0m\u001b[0;34m]\u001b[0m\u001b[0;34m[\u001b[0m\u001b[0;34m'filings'\u001b[0m\u001b[0;34m]\u001b[0m\u001b[0;34m[\u001b[0m\u001b[0;36m0\u001b[0m\u001b[0;34m]\u001b[0m\u001b[0;34m\u001b[0m\u001b[0;34m\u001b[0m\u001b[0m\n\u001b[1;32m      2\u001b[0m \u001b[0msec_fields_to_include\u001b[0m \u001b[0;34m=\u001b[0m \u001b[0;34m[\u001b[0m\u001b[0;34m'date'\u001b[0m\u001b[0;34m,\u001b[0m  \u001b[0;34m'type'\u001b[0m\u001b[0;34m,\u001b[0m \u001b[0;34m'title'\u001b[0m\u001b[0;34m,\u001b[0m \u001b[0;34m'edgarUrl'\u001b[0m\u001b[0;34m]\u001b[0m\u001b[0;34m\u001b[0m\u001b[0;34m\u001b[0m\u001b[0m\n\u001b[0;32m----> 3\u001b[0;31m \u001b[0mdata\u001b[0m\u001b[0;34m[\u001b[0m\u001b[0;34m[\u001b[0m\u001b[0;34m'data'\u001b[0m\u001b[0;34m,\u001b[0m \u001b[0;34m'type'\u001b[0m\u001b[0;34m]\u001b[0m\u001b[0;34m]\u001b[0m\u001b[0;34m\u001b[0m\u001b[0;34m\u001b[0m\u001b[0m\n\u001b[0m",
      "\u001b[0;31mTypeError\u001b[0m: unhashable type: 'list'"
     ]
    }
   ],
   "source": [
    "data = stock_price['secFilings']['filings'][0]\n",
    "sec_fields_to_include = ['date',  'type', 'title', 'edgarUrl']\n",
    "data[['data', 'type']]"
   ]
  },
  {
   "cell_type": "code",
   "execution_count": 25,
   "id": "threatened-identifier",
   "metadata": {},
   "outputs": [
    {
     "data": {
      "text/plain": [
       "{'raw': 66288000000, 'fmt': '66.29B', 'longFmt': '66,288,000,000'}"
      ]
     },
     "execution_count": 25,
     "metadata": {},
     "output_type": "execute_result"
    }
   ],
   "source": [
    "# stock_price['price']\n",
    "# stock_price['summaryDetail']\n",
    "stock_price['incomeStatementHistory']['incomeStatementHistory'][0]['operatingIncome']"
   ]
  },
  {
   "cell_type": "code",
   "execution_count": 33,
   "id": "equal-insured",
   "metadata": {},
   "outputs": [
    {
     "data": {
      "text/plain": [
       "{'maxAge': 1,\n",
       " 'earnings': {'earningsDate': [{'raw': 1619568000, 'fmt': '2021-04-28'},\n",
       "   {'raw': 1620000000, 'fmt': '2021-05-03'}],\n",
       "  'earningsAverage': {'raw': 0.98, 'fmt': '0.98'},\n",
       "  'earningsLow': {'raw': 0.85, 'fmt': '0.85'},\n",
       "  'earningsHigh': {'raw': 1.09, 'fmt': '1.09'},\n",
       "  'revenueAverage': {'raw': 76967900000,\n",
       "   'fmt': '76.97B',\n",
       "   'longFmt': '76,967,900,000'},\n",
       "  'revenueLow': {'raw': 70790900000,\n",
       "   'fmt': '70.79B',\n",
       "   'longFmt': '70,790,900,000'},\n",
       "  'revenueHigh': {'raw': 83193000000,\n",
       "   'fmt': '83.19B',\n",
       "   'longFmt': '83,193,000,000'}},\n",
       " 'exDividendDate': {'raw': 1612483200, 'fmt': '2021-02-05'},\n",
       " 'dividendDate': {'raw': 1613001600, 'fmt': '2021-02-11'}}"
      ]
     },
     "execution_count": 33,
     "metadata": {},
     "output_type": "execute_result"
    }
   ],
   "source": [
    "stock_price['calendarEvents']"
   ]
  },
  {
   "cell_type": "code",
   "execution_count": 28,
   "id": "virtual-monitoring",
   "metadata": {},
   "outputs": [
    {
     "data": {
      "text/plain": [
       "{'annualHoldingsTurnover': {},\n",
       " 'enterpriseToRevenue': {'raw': 7.722, 'fmt': '7.72'},\n",
       " 'beta3Year': {},\n",
       " 'profitMargins': {'raw': 0.21735, 'fmt': '21.74%'},\n",
       " 'enterpriseToEbitda': {'raw': 26.67, 'fmt': '26.67'},\n",
       " '52WeekChange': {'raw': 0.6974294, 'fmt': '69.74%'},\n",
       " 'morningStarRiskRating': {},\n",
       " 'forwardEps': {'raw': 4.68, 'fmt': '4.68'},\n",
       " 'revenueQuarterlyGrowth': {},\n",
       " 'sharesOutstanding': {'raw': 16788100096,\n",
       "  'fmt': '16.79B',\n",
       "  'longFmt': '16,788,100,096'},\n",
       " 'fundInceptionDate': {},\n",
       " 'annualReportExpenseRatio': {},\n",
       " 'totalAssets': {},\n",
       " 'bookValue': {'raw': 3.936, 'fmt': '3.94'},\n",
       " 'sharesShort': {'raw': 91862600, 'fmt': '91.86M', 'longFmt': '91,862,600'},\n",
       " 'sharesPercentSharesOut': {'raw': 0.0055, 'fmt': '0.55%'},\n",
       " 'fundFamily': None,\n",
       " 'lastFiscalYearEnd': {'raw': 1601078400, 'fmt': '2020-09-26'},\n",
       " 'heldPercentInstitutions': {'raw': 0.59661996, 'fmt': '59.66%'},\n",
       " 'netIncomeToCommon': {'raw': 63929999360,\n",
       "  'fmt': '63.93B',\n",
       "  'longFmt': '63,929,999,360'},\n",
       " 'trailingEps': {'raw': 3.687, 'fmt': '3.69'},\n",
       " 'lastDividendValue': {'raw': 0.205, 'fmt': '0.20'},\n",
       " 'SandP52WeekChange': {'raw': 0.1675049, 'fmt': '16.75%'},\n",
       " 'priceToBook': {'raw': 33.241867, 'fmt': '33.24'},\n",
       " 'heldPercentInsiders': {'raw': 0.00065, 'fmt': '0.07%'},\n",
       " 'nextFiscalYearEnd': {'raw': 1664150400, 'fmt': '2022-09-26'},\n",
       " 'yield': {},\n",
       " 'mostRecentQuarter': {'raw': 1608940800, 'fmt': '2020-12-26'},\n",
       " 'shortRatio': {'raw': 0.79, 'fmt': '0.79'},\n",
       " 'sharesShortPreviousMonthDate': {'raw': 1609372800, 'fmt': '2020-12-31'},\n",
       " 'floatShares': {'raw': 16770804261,\n",
       "  'fmt': '16.77B',\n",
       "  'longFmt': '16,770,804,261'},\n",
       " 'beta': {'raw': 1.267876, 'fmt': '1.27'},\n",
       " 'enterpriseValue': {'raw': 2271223480320,\n",
       "  'fmt': '2.27T',\n",
       "  'longFmt': '2,271,223,480,320'},\n",
       " 'priceHint': {'raw': 2, 'fmt': '2', 'longFmt': '2'},\n",
       " 'threeYearAverageReturn': {},\n",
       " 'lastSplitDate': {'raw': 1598832000, 'fmt': '2020-08-31'},\n",
       " 'lastSplitFactor': '4:1',\n",
       " 'legalType': None,\n",
       " 'lastDividendDate': {'raw': 1612483200, 'fmt': '2021-02-05'},\n",
       " 'morningStarOverallRating': {},\n",
       " 'earningsQuarterlyGrowth': {'raw': 0.293, 'fmt': '29.30%'},\n",
       " 'priceToSalesTrailing12Months': {},\n",
       " 'dateShortInterest': {'raw': 1611878400, 'fmt': '2021-01-29'},\n",
       " 'pegRatio': {'raw': 2.02, 'fmt': '2.02'},\n",
       " 'ytdReturn': {},\n",
       " 'forwardPE': {'raw': 27.957266, 'fmt': '27.96'},\n",
       " 'maxAge': 1,\n",
       " 'lastCapGain': {},\n",
       " 'shortPercentOfFloat': {'raw': 0.0055, 'fmt': '0.55%'},\n",
       " 'sharesShortPriorMonth': {'raw': 91091816,\n",
       "  'fmt': '91.09M',\n",
       "  'longFmt': '91,091,816'},\n",
       " 'impliedSharesOutstanding': {},\n",
       " 'category': None,\n",
       " 'fiveYearAverageReturn': {}}"
      ]
     },
     "execution_count": 28,
     "metadata": {},
     "output_type": "execute_result"
    }
   ],
   "source": [
    "stock_price['defaultKeyStatistics']"
   ]
  },
  {
   "cell_type": "code",
   "execution_count": 29,
   "id": "regional-trustee",
   "metadata": {},
   "outputs": [
    {
     "data": {
      "text/plain": [
       "{'previousClose': {'raw': 133.19, 'fmt': '133.19'},\n",
       " 'regularMarketOpen': {'raw': 131.25, 'fmt': '131.25'},\n",
       " 'twoHundredDayAverage': {'raw': 121.83025, 'fmt': '121.83'},\n",
       " 'trailingAnnualDividendYield': {'raw': 0.0060590133, 'fmt': '0.61%'},\n",
       " 'payoutRatio': {'raw': 0.2177, 'fmt': '21.77%'},\n",
       " 'volume24Hr': {},\n",
       " 'regularMarketDayHigh': {'raw': 132.22, 'fmt': '132.22'},\n",
       " 'navPrice': {},\n",
       " 'averageDailyVolume10Day': {'raw': 69108620,\n",
       "  'fmt': '69.11M',\n",
       "  'longFmt': '69,108,620'},\n",
       " 'totalAssets': {},\n",
       " 'regularMarketPreviousClose': {'raw': 133.19, 'fmt': '133.19'},\n",
       " 'fiftyDayAverage': {'raw': 133.9909, 'fmt': '133.99'},\n",
       " 'trailingAnnualDividendRate': {'raw': 0.807, 'fmt': '0.81'},\n",
       " 'open': {'raw': 131.25, 'fmt': '131.25'},\n",
       " 'toCurrency': None,\n",
       " 'averageVolume10days': {'raw': 69108620,\n",
       "  'fmt': '69.11M',\n",
       "  'longFmt': '69,108,620'},\n",
       " 'expireDate': {},\n",
       " 'yield': {},\n",
       " 'algorithm': None,\n",
       " 'dividendRate': {'raw': 0.82, 'fmt': '0.82'},\n",
       " 'exDividendDate': {'raw': 1612483200, 'fmt': '2021-02-05'},\n",
       " 'beta': {'raw': 1.267876, 'fmt': '1.27'},\n",
       " 'circulatingSupply': {},\n",
       " 'startDate': {},\n",
       " 'regularMarketDayLow': {'raw': 129.47, 'fmt': '129.47'},\n",
       " 'priceHint': {'raw': 2, 'fmt': '2', 'longFmt': '2'},\n",
       " 'currency': 'USD',\n",
       " 'trailingPE': {'raw': 35.486843, 'fmt': '35.49'},\n",
       " 'regularMarketVolume': {'raw': 95934652,\n",
       "  'fmt': '95.93M',\n",
       "  'longFmt': '95,934,652'},\n",
       " 'lastMarket': None,\n",
       " 'maxSupply': {},\n",
       " 'openInterest': {},\n",
       " 'marketCap': {'raw': 2196554907648,\n",
       "  'fmt': '2.2T',\n",
       "  'longFmt': '2,196,554,907,648'},\n",
       " 'volumeAllCurrencies': {},\n",
       " 'strikePrice': {},\n",
       " 'averageVolume': {'raw': 102827562,\n",
       "  'fmt': '102.83M',\n",
       "  'longFmt': '102,827,562'},\n",
       " 'priceToSalesTrailing12Months': {'raw': 7.467846, 'fmt': '7.47'},\n",
       " 'dayLow': {'raw': 129.47, 'fmt': '129.47'},\n",
       " 'ask': {'raw': 130.85, 'fmt': '130.85'},\n",
       " 'ytdReturn': {},\n",
       " 'askSize': {'raw': 1000, 'fmt': '1k', 'longFmt': '1,000'},\n",
       " 'volume': {'raw': 95934652, 'fmt': '95.93M', 'longFmt': '95,934,652'},\n",
       " 'fiftyTwoWeekHigh': {'raw': 145.09, 'fmt': '145.09'},\n",
       " 'forwardPE': {'raw': 27.957266, 'fmt': '27.96'},\n",
       " 'maxAge': 1,\n",
       " 'fromCurrency': None,\n",
       " 'fiveYearAvgDividendYield': {'raw': 1.44, 'fmt': '1.44'},\n",
       " 'fiftyTwoWeekLow': {'raw': 53.1525, 'fmt': '53.15'},\n",
       " 'bid': {'raw': 130.76, 'fmt': '130.76'},\n",
       " 'tradeable': False,\n",
       " 'dividendYield': {'raw': 0.0062, 'fmt': '0.62%'},\n",
       " 'bidSize': {'raw': 1200, 'fmt': '1.2k', 'longFmt': '1,200'},\n",
       " 'dayHigh': {'raw': 132.22, 'fmt': '132.22'}}"
      ]
     },
     "execution_count": 29,
     "metadata": {},
     "output_type": "execute_result"
    }
   ],
   "source": [
    "stock_price['summaryDetail']"
   ]
  },
  {
   "cell_type": "code",
   "execution_count": 30,
   "id": "descending-manufacturer",
   "metadata": {},
   "outputs": [
    {
     "data": {
      "text/plain": [
       "{'ebitdaMargins': {'raw': 0.28952, 'fmt': '28.95%'},\n",
       " 'profitMargins': {'raw': 0.21735, 'fmt': '21.74%'},\n",
       " 'grossMargins': {'raw': 0.38779998, 'fmt': '38.78%'},\n",
       " 'operatingCashflow': {'raw': 88920997888,\n",
       "  'fmt': '88.92B',\n",
       "  'longFmt': '88,920,997,888'},\n",
       " 'revenueGrowth': {'raw': 0.214, 'fmt': '21.40%'},\n",
       " 'operatingMargins': {'raw': 0.25245002, 'fmt': '25.25%'},\n",
       " 'ebitda': {'raw': 85159002112, 'fmt': '85.16B', 'longFmt': '85,159,002,112'},\n",
       " 'targetLowPrice': {'raw': 83, 'fmt': '83.00'},\n",
       " 'recommendationKey': 'buy',\n",
       " 'grossProfits': {'raw': 104956000000,\n",
       "  'fmt': '104.96B',\n",
       "  'longFmt': '104,956,000,000'},\n",
       " 'freeCashflow': {'raw': 66893373440,\n",
       "  'fmt': '66.89B',\n",
       "  'longFmt': '66,893,373,440'},\n",
       " 'targetMedianPrice': {'raw': 157, 'fmt': '157.00'},\n",
       " 'currentPrice': {'raw': 130.84, 'fmt': '130.84'},\n",
       " 'earningsGrowth': {'raw': 0.344, 'fmt': '34.40%'},\n",
       " 'currentRatio': {'raw': 1.163, 'fmt': '1.16'},\n",
       " 'returnOnAssets': {'raw': 0.13361, 'fmt': '13.36%'},\n",
       " 'numberOfAnalystOpinions': {'raw': 38, 'fmt': '38', 'longFmt': '38'},\n",
       " 'targetMeanPrice': {'raw': 151.75, 'fmt': '151.75'},\n",
       " 'debtToEquity': {'raw': 169.188, 'fmt': '169.19'},\n",
       " 'returnOnEquity': {'raw': 0.82089996, 'fmt': '82.09%'},\n",
       " 'targetHighPrice': {'raw': 175, 'fmt': '175.00'},\n",
       " 'totalCash': {'raw': 76826001408,\n",
       "  'fmt': '76.83B',\n",
       "  'longFmt': '76,826,001,408'},\n",
       " 'totalDebt': {'raw': 112042999808,\n",
       "  'fmt': '112.04B',\n",
       "  'longFmt': '112,042,999,808'},\n",
       " 'totalRevenue': {'raw': 294135005184,\n",
       "  'fmt': '294.14B',\n",
       "  'longFmt': '294,135,005,184'},\n",
       " 'totalCashPerShare': {'raw': 4.576, 'fmt': '4.58'},\n",
       " 'financialCurrency': 'USD',\n",
       " 'maxAge': 86400,\n",
       " 'revenuePerShare': {'raw': 17.13, 'fmt': '17.13'},\n",
       " 'quickRatio': {'raw': 1.022, 'fmt': '1.02'},\n",
       " 'recommendationMean': {'raw': 2, 'fmt': '2.00'}}"
      ]
     },
     "execution_count": 30,
     "metadata": {},
     "output_type": "execute_result"
    }
   ],
   "source": [
    "stock_price['financialData']"
   ]
  },
  {
   "cell_type": "code",
   "execution_count": 32,
   "id": "sized-collaboration",
   "metadata": {},
   "outputs": [
    {
     "data": {
      "text/plain": [
       "{'quoteSourceName': 'Nasdaq Real Time Price',\n",
       " 'regularMarketOpen': {'raw': 131.25, 'fmt': '131.25'},\n",
       " 'averageDailyVolume3Month': {'raw': 102827562,\n",
       "  'fmt': '102.83M',\n",
       "  'longFmt': '102,827,562'},\n",
       " 'exchange': 'NMS',\n",
       " 'regularMarketTime': 1613595602,\n",
       " 'volume24Hr': {},\n",
       " 'regularMarketDayHigh': {'raw': 132.22, 'fmt': '132.22'},\n",
       " 'shortName': 'Apple Inc.',\n",
       " 'averageDailyVolume10Day': {'raw': 69108620,\n",
       "  'fmt': '69.11M',\n",
       "  'longFmt': '69,108,620'},\n",
       " 'longName': 'Apple Inc.',\n",
       " 'regularMarketChange': {'raw': -2.350006, 'fmt': '-2.35'},\n",
       " 'currencySymbol': '$',\n",
       " 'regularMarketPreviousClose': {'raw': 133.19, 'fmt': '133.19'},\n",
       " 'postMarketTime': 1613597038,\n",
       " 'preMarketPrice': {'raw': 131.23, 'fmt': '131.23'},\n",
       " 'preMarketTime': 1613572199,\n",
       " 'exchangeDataDelayedBy': 0,\n",
       " 'toCurrency': None,\n",
       " 'postMarketChange': {'raw': 0.010009766, 'fmt': '0.01'},\n",
       " 'postMarketPrice': {'raw': 130.85, 'fmt': '130.85'},\n",
       " 'exchangeName': 'NasdaqGS',\n",
       " 'preMarketChange': {'raw': -1.96001, 'fmt': '-1.96'},\n",
       " 'circulatingSupply': {},\n",
       " 'regularMarketDayLow': {'raw': 129.47, 'fmt': '129.47'},\n",
       " 'priceHint': {'raw': 2, 'fmt': '2', 'longFmt': '2'},\n",
       " 'currency': 'USD',\n",
       " 'regularMarketPrice': {'raw': 130.84, 'fmt': '130.84'},\n",
       " 'regularMarketVolume': {'raw': 95934652,\n",
       "  'fmt': '95.93M',\n",
       "  'longFmt': '95,934,652.00'},\n",
       " 'lastMarket': None,\n",
       " 'regularMarketSource': 'FREE_REALTIME',\n",
       " 'openInterest': {},\n",
       " 'marketState': 'POST',\n",
       " 'underlyingSymbol': None,\n",
       " 'marketCap': {'raw': 2196554907648,\n",
       "  'fmt': '2.20T',\n",
       "  'longFmt': '2,196,554,907,648.00'},\n",
       " 'quoteType': 'EQUITY',\n",
       " 'preMarketChangePercent': {'raw': -0.014715901, 'fmt': '-1.47%'},\n",
       " 'volumeAllCurrencies': {},\n",
       " 'postMarketSource': 'FREE_REALTIME',\n",
       " 'strikePrice': {},\n",
       " 'symbol': 'AAPL',\n",
       " 'postMarketChangePercent': {'raw': 7.6503864e-05, 'fmt': '0.01%'},\n",
       " 'preMarketSource': 'FREE_REALTIME',\n",
       " 'maxAge': 1,\n",
       " 'fromCurrency': None,\n",
       " 'regularMarketChangePercent': {'raw': -0.017644012, 'fmt': '-1.76%'}}"
      ]
     },
     "execution_count": 32,
     "metadata": {},
     "output_type": "execute_result"
    }
   ],
   "source": [
    "stock_price['price']"
   ]
  },
  {
   "cell_type": "code",
   "execution_count": null,
   "id": "serial-ethiopia",
   "metadata": {},
   "outputs": [],
   "source": []
  }
 ],
 "metadata": {
  "kernelspec": {
   "display_name": "Python 3",
   "language": "python",
   "name": "python3"
  },
  "language_info": {
   "codemirror_mode": {
    "name": "ipython",
    "version": 3
   },
   "file_extension": ".py",
   "mimetype": "text/x-python",
   "name": "python",
   "nbconvert_exporter": "python",
   "pygments_lexer": "ipython3",
   "version": "3.8.5"
  }
 },
 "nbformat": 4,
 "nbformat_minor": 5
}
