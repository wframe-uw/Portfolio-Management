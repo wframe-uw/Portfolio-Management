{
 "cells": [
  {
   "cell_type": "code",
   "execution_count": 2,
   "id": "grateful-venezuela",
   "metadata": {},
   "outputs": [],
   "source": [
    "import pandas as pd\n",
    "from bs4 import BeautifulSoup\n",
    "import re\n",
    "import string\n",
    "import json\n",
    "import requests\n",
    "\n",
    "url_stats = \"https://finance.yahoo.com/quote/{}/key-statistics?p={}\"\n",
    "url_profile = \"https://finance.yahoo.com/quote/{}/profile?p={}\"\n",
    "url_financials = \"https://finance.yahoo.com/quote/{}/financials?p={}\"\n",
    "stock = 'AAPL'\n",
    "url = url_financials.format(stock, stock)\n",
    "\n",
    "page = requests.get(url)\n",
    "soup = BeautifulSoup(page.text, 'lxml')\n",
    "pattern = re.compile(r'\\s--\\sData\\s--\\s')\n",
    "script_data = soup.find('script', text=pattern).contents[0]\n",
    "# print(script_data)\n",
    "start_pos = script_data.find(\"context\") - 2\n",
    "end_pos = -12\n",
    "data = json.loads(script_data[start_pos : end_pos])\n",
    "stock_price = data['context']['dispatcher']['stores']['QuoteSummaryStore']\n",
    "\n"
   ]
  },
  {
   "cell_type": "code",
   "execution_count": 4,
   "id": "upper-pipeline",
   "metadata": {},
   "outputs": [
    {
     "data": {
      "text/plain": [
       "dict_keys(['financialsTemplate', 'cashflowStatementHistory', 'balanceSheetHistoryQuarterly', 'earnings', 'price', 'incomeStatementHistoryQuarterly', 'incomeStatementHistory', 'balanceSheetHistory', 'cashflowStatementHistoryQuarterly', 'quoteType', 'summaryDetail', 'symbol', 'pageViews'])"
      ]
     },
     "execution_count": 4,
     "metadata": {},
     "output_type": "execute_result"
    }
   ],
   "source": [
    "stock_price.keys()"
   ]
  },
  {
   "cell_type": "code",
   "execution_count": 21,
   "id": "opened-graphic",
   "metadata": {},
   "outputs": [
    {
     "data": {
      "text/plain": [
       "{'raw': 66288000000, 'fmt': '66.29B', 'longFmt': '66,288,000,000'}"
      ]
     },
     "execution_count": 21,
     "metadata": {},
     "output_type": "execute_result"
    }
   ],
   "source": [
    "# stock_price['price']\n",
    "# stock_price['summaryDetail']\n",
    "stock_price['incomeStatementHistory']['incomeStatementHistory'][0]['operatingIncome']"
   ]
  },
  {
   "cell_type": "code",
   "execution_count": 22,
   "id": "northern-money",
   "metadata": {},
   "outputs": [
    {
     "data": {
      "text/plain": [
       "{'previousClose': {'raw': 135.37, 'fmt': '135.37'},\n",
       " 'regularMarketOpen': {'raw': 135.49, 'fmt': '135.49'},\n",
       " 'twoHundredDayAverage': {'raw': 121.83025, 'fmt': '121.83'},\n",
       " 'trailingAnnualDividendYield': {'raw': 0.005961439, 'fmt': '0.60%'},\n",
       " 'payoutRatio': {'raw': 0.2177, 'fmt': '21.77%'},\n",
       " 'volume24Hr': {},\n",
       " 'regularMarketDayHigh': {'raw': 136, 'fmt': '136.00'},\n",
       " 'navPrice': {},\n",
       " 'averageDailyVolume10Day': {'raw': 69108620,\n",
       "  'fmt': '69.11M',\n",
       "  'longFmt': '69,108,620'},\n",
       " 'totalAssets': {},\n",
       " 'regularMarketPreviousClose': {'raw': 135.37, 'fmt': '135.37'},\n",
       " 'fiftyDayAverage': {'raw': 133.9909, 'fmt': '133.99'},\n",
       " 'trailingAnnualDividendRate': {'raw': 0.807, 'fmt': '0.81'},\n",
       " 'open': {'raw': 135.49, 'fmt': '135.49'},\n",
       " 'toCurrency': None,\n",
       " 'averageVolume10days': {'raw': 69108620,\n",
       "  'fmt': '69.11M',\n",
       "  'longFmt': '69,108,620'},\n",
       " 'expireDate': {},\n",
       " 'yield': {},\n",
       " 'algorithm': None,\n",
       " 'dividendRate': {'raw': 0.82, 'fmt': '0.82'},\n",
       " 'exDividendDate': {'raw': 1612483200, 'fmt': '2021-02-05'},\n",
       " 'beta': {'raw': 1.267876, 'fmt': '1.27'},\n",
       " 'circulatingSupply': {},\n",
       " 'startDate': {},\n",
       " 'regularMarketDayLow': {'raw': 132.81, 'fmt': '132.81'},\n",
       " 'priceHint': {'raw': 2, 'fmt': '2', 'longFmt': '2'},\n",
       " 'currency': 'USD',\n",
       " 'trailingPE': {'raw': 36.12422, 'fmt': '36.12'},\n",
       " 'regularMarketVolume': {'raw': 71497990,\n",
       "  'fmt': '71.5M',\n",
       "  'longFmt': '71,497,990'},\n",
       " 'lastMarket': None,\n",
       " 'maxSupply': {},\n",
       " 'openInterest': {},\n",
       " 'marketCap': {'raw': 2236007055360,\n",
       "  'fmt': '2.24T',\n",
       "  'longFmt': '2,236,007,055,360'},\n",
       " 'volumeAllCurrencies': {},\n",
       " 'strikePrice': {},\n",
       " 'averageVolume': {'raw': 102827562,\n",
       "  'fmt': '102.83M',\n",
       "  'longFmt': '102,827,562'},\n",
       " 'priceToSalesTrailing12Months': {'raw': 7.6019754, 'fmt': '7.60'},\n",
       " 'dayLow': {'raw': 132.81, 'fmt': '132.81'},\n",
       " 'ask': {'raw': 132.8, 'fmt': '132.80'},\n",
       " 'ytdReturn': {},\n",
       " 'askSize': {'raw': 800, 'fmt': '800', 'longFmt': '800'},\n",
       " 'volume': {'raw': 71497990, 'fmt': '71.5M', 'longFmt': '71,497,990'},\n",
       " 'fiftyTwoWeekHigh': {'raw': 145.09, 'fmt': '145.09'},\n",
       " 'forwardPE': {'raw': 28.459404, 'fmt': '28.46'},\n",
       " 'maxAge': 1,\n",
       " 'fromCurrency': None,\n",
       " 'fiveYearAvgDividendYield': {'raw': 1.44, 'fmt': '1.44'},\n",
       " 'fiftyTwoWeekLow': {'raw': 53.1525, 'fmt': '53.15'},\n",
       " 'bid': {'raw': 132.78, 'fmt': '132.78'},\n",
       " 'tradeable': False,\n",
       " 'dividendYield': {'raw': 0.0061000003, 'fmt': '0.61%'},\n",
       " 'bidSize': {'raw': 1000, 'fmt': '1k', 'longFmt': '1,000'},\n",
       " 'dayHigh': {'raw': 136, 'fmt': '136.00'}}"
      ]
     },
     "execution_count": 22,
     "metadata": {},
     "output_type": "execute_result"
    }
   ],
   "source": [
    "stock_price['summaryDetail']"
   ]
  },
  {
   "cell_type": "code",
   "execution_count": null,
   "id": "thrown-spectacular",
   "metadata": {},
   "outputs": [],
   "source": []
  }
 ],
 "metadata": {
  "kernelspec": {
   "display_name": "Python 3",
   "language": "python",
   "name": "python3"
  },
  "language_info": {
   "codemirror_mode": {
    "name": "ipython",
    "version": 3
   },
   "file_extension": ".py",
   "mimetype": "text/x-python",
   "name": "python",
   "nbconvert_exporter": "python",
   "pygments_lexer": "ipython3",
   "version": "3.8.5"
  }
 },
 "nbformat": 4,
 "nbformat_minor": 5
}
